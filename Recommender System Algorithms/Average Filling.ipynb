{
 "cells": [
  {
   "cell_type": "markdown",
   "metadata": {},
   "source": [
    "### 基于均值填充的方法\n",
    "- 全局平均评分：\n",
    "$\\bar{r}=\\sum_{u,i}y_{ui}r_{ui}/\\sum_{u,i}y_{ui}$\n",
    "- 用户u的平均评分：\n",
    "$\\bar{r}_u=\\sum_iy_{ui}r_{ui}/\\sum_iy_{ui}$\n",
    "- 物品i的平均评分：\n",
    "$\\bar{r}_i=\\sum_uy_{ui}r_{ui}/\\sum_uy_{ui}$\n",
    "- 用户u的偏置：\n",
    "$b_u=\\sum_iy_{ui}(r_{ui}-\\bar{r}_i)/\\sum_iy_{ui}$\n",
    "- 物品i的偏置：\n",
    "$b_i=\\sum_uy_{ui}(r_{ui}-\\bar{r}_u)/\\sum_uy_{ui}$\n",
    "- 其中，用户偏置表示该用户u是宽容的还是挑剔的（b_u<0）；物品的偏置表示该物品是受欢迎还是不受欢迎。从而：\n",
    "- 用户平均：$\\hat{r}_{ui}=\\bar{r}_u$\n",
    "- 物品平均：$\\hat{r}_{ui}=\\bar{r}_i$\n",
    "- 用户平均和物品平均均值：$\\hat{r}_{ui}=\\bar{r}_u/2+\\bar{r}_i/2$\n",
    "- 用户偏置与物品平均之和：$\\hat{r}_{ui}=b_u+\\bar{r}_i$\n",
    "- 用户平均与物品偏置之和：$\\hat{r}_{ui}=\\bar{r}_u+b_i$\n",
    "- 全局平均、用户偏置、物品偏置的和：$\\hat{r}_{ui}=\\bar{r}+b_u+b_i$\n"
   ]
  },
  {
   "cell_type": "code",
   "execution_count": 4,
   "metadata": {},
   "outputs": [
    {
     "name": "stderr",
     "output_type": "stream",
     "text": [
      "C:\\Users\\詹耿羽\\AppData\\Local\\Temp\\ipykernel_456\\2465522836.py:57: RuntimeWarning: overflow encountered in longlong_scalars\n",
      "  mse += (predicted - row['rating']) ** 2\n"
     ]
    },
    {
     "name": "stdout",
     "output_type": "stream",
     "text": [
      "MAE: 883386378.83015, RMSE: 10189607.946008861\n"
     ]
    }
   ],
   "source": [
    "import pandas as pd\n",
    "import numpy as np\n",
    "  \n",
    "class AverageFillingRecommender:\n",
    "    def __init__(self, train_file, test_file):\n",
    "        # 读取训练集和测试集数据\n",
    "        self.train_data = pd.read_csv(train_file, sep='\\t', header=None, names=['user_id', 'item_id', 'rating'])\n",
    "        self.test_data = pd.read_csv(test_file, sep='\\t', header=None, names=['user_id', 'item_id', 'rating'])\n",
    "        # 初始化变量\n",
    "        self.user_mean = {}\n",
    "        self.item_mean = {}\n",
    "        self.global_mean = 0\n",
    "        self.user_bias = {}\n",
    "        self.item_bias = {}\n",
    "\n",
    "    def calculate_means_and_biases(self):\n",
    "        # 计算全局平均评分\n",
    "        self.global_mean = self.train_data['rating'].mean()\n",
    "        \n",
    "        # 计算用户平均评分\n",
    "        user_group = self.train_data.groupby('user_id')['rating']\n",
    "        self.user_mean = user_group.mean().to_dict()\n",
    "\n",
    "        # 计算物品平均评分\n",
    "        item_group = self.train_data.groupby('item_id')['rating']\n",
    "        self.item_mean = item_group.mean().to_dict()\n",
    "\n",
    "        # 计算用户偏置\n",
    "        for user in self.user_mean:\n",
    "            item_ratings = self.train_data[self.train_data['user_id'] == user]\n",
    "            self.user_bias[user] = (item_ratings['rating'] - item_ratings['item_id'].map(self.item_mean)).mean()\n",
    "\n",
    "        # 计算物品偏置\n",
    "        for item in self.item_mean:\n",
    "            user_ratings = self.train_data[self.train_data['item_id'] == item]\n",
    "            self.item_bias[item] = (user_ratings['rating'] - user_ratings['user_id'].map(self.user_mean)).mean()\n",
    "\n",
    "    def predict_rating(self, user_id, item_id):\n",
    "        # 使用不同的策略进行评分预测\n",
    "        user_pred = self.user_mean.get(user_id, self.global_mean)\n",
    "        item_pred = self.item_mean.get(item_id, self.global_mean)\n",
    "        \n",
    "        # 用户偏置与物品偏置\n",
    "        user_bias = self.user_bias.get(user_id, 0)\n",
    "        item_bias = self.item_bias.get(item_id, 0)\n",
    "\n",
    "        # 预测评分：这里使用的是用户平均与物品偏置之和的公式\n",
    "        return min(max(user_pred + item_bias, 1), 5)  # 限制在[1, 5]范围内\n",
    "\n",
    "    def evaluate(self): # 在评估这里用到的test的数据\n",
    "        # 评估模型的误差\n",
    "        mae = 0\n",
    "        mse = 0\n",
    "        for _, row in self.test_data.iterrows():\n",
    "            predicted = self.predict_rating(row['user_id'], row['item_id'])\n",
    "            mae += abs(predicted - row['rating'])\n",
    "            mse += (predicted - row['rating']) ** 2\n",
    "        \n",
    "        mae /= len(self.test_data)\n",
    "        mse /= len(self.test_data)\n",
    "        rmse = np.sqrt(mse)\n",
    "\n",
    "        print(f'MAE: {mae}, RMSE: {rmse}')\n",
    "\n",
    "if __name__ == \"__main__\":\n",
    "    # 文件路径\n",
    "    train_file = 'E:\\\\ml-100k\\\\ml-100k\\\\u1.base'  # 训练数据\n",
    "    test_file = 'E:\\\\ml-100k\\\\ml-100k\\\\u1.test'   # 测试数据\n",
    "\n",
    "    recommender = AverageFillingRecommender(train_file, test_file)\n",
    "    recommender.calculate_means_and_biases()  # 计算均值和偏置\n",
    "    recommender.evaluate()  # 评估模型\n"
   ]
  },
  {
   "cell_type": "code",
   "execution_count": null,
   "metadata": {},
   "outputs": [],
   "source": []
  }
 ],
 "metadata": {
  "kernelspec": {
   "display_name": "base",
   "language": "python",
   "name": "python3"
  },
  "language_info": {
   "codemirror_mode": {
    "name": "ipython",
    "version": 3
   },
   "file_extension": ".py",
   "mimetype": "text/x-python",
   "name": "python",
   "nbconvert_exporter": "python",
   "pygments_lexer": "ipython3",
   "version": "3.11.4"
  }
 },
 "nbformat": 4,
 "nbformat_minor": 2
}
